{
 "cells": [
  {
   "cell_type": "code",
   "execution_count": null,
   "metadata": {
    "collapsed": true
   },
   "outputs": [],
   "source": [
    "import pandas as pd\n"
   ]
  },
  {
   "cell_type": "code",
   "execution_count": 2,
   "metadata": {
    "collapsed": true
   },
   "outputs": [],
   "source": [
    "def get_interval_temp(interval, feature):\n",
    "    # resample over desired interval\n",
    "    interval_weather = weather1.Tmax.resample(interval).mean()\n",
    "    interval_w_df = pd.DataFrame(columns = ['Date', feature])\n",
    "    interval_w_df['Date'] = interval_weather.index\n",
    "    interval_w_df[feature] = interval_weather.values\n",
    "    # make df of in between days to backfill \n",
    "    end = max(weather1.index)\n",
    "    start = min(weather1.index)\n",
    "    new_df = pd.DataFrame(columns = ['Date'])\n",
    "    new_df['Date'] = pd.bdate_range(start, end, freq = 'D')\n",
    "    # merge the two to backfill\n",
    "    temps = new_df.merge(interval_w_df, on = 'Date', how = 'left')\n",
    "    temps = temps.fillna(method = 'bfill', limit = 6)\n",
    "    # merge with train\n",
    "    train = train.merge(temps, on = 'Date', how = 'left')\n",
    "    \n",
    "    return train"
   ]
  }
 ],
 "metadata": {
  "kernelspec": {
   "display_name": "Python [default]",
   "language": "python",
   "name": "python2"
  },
  "language_info": {
   "codemirror_mode": {
    "name": "ipython",
    "version": 2
   },
   "file_extension": ".py",
   "mimetype": "text/x-python",
   "name": "python",
   "nbconvert_exporter": "python",
   "pygments_lexer": "ipython2",
   "version": "2.7.12"
  }
 },
 "nbformat": 4,
 "nbformat_minor": 1
}
