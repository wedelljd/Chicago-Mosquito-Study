{
 "cells": [
  {
   "cell_type": "code",
   "execution_count": 114,
   "metadata": {
    "collapsed": false
   },
   "outputs": [],
   "source": [
    "import pandas as pd\n",
    "import numpy as np\n",
    "from datetime import datetime\n",
    "import matplotlib.pyplot as plt\n",
    "from sklearn.linear_model import LogisticRegressionCV\n",
    "from sklearn.cross_validation import cross_val_score, train_test_split, KFold\n",
    "from sklearn.tree import DecisionTreeClassifier\n",
    "from sklearn.ensemble import BaggingClassifier, GradientBoostingClassifier, AdaBoostClassifier, RandomForestClassifier, ExtraTreesClassifier\n",
    "from sklearn.grid_search import GridSearchCV\n",
    "from geopy.distance import great_circle\n",
    "from sklearn.feature_selection import RFECV"
   ]
  },
  {
   "cell_type": "code",
   "execution_count": 4,
   "metadata": {
    "collapsed": false
   },
   "outputs": [],
   "source": [
    "train = pd.read_csv('/Users/teresaborcuch/Chicago-Mosquito-Study/datasets/train_clean.csv')\n",
    "test = pd.read_csv('/Users/teresaborcuch/Chicago-Mosquito-Study/datasets/test_clean.csv')"
   ]
  },
  {
   "cell_type": "code",
   "execution_count": 8,
   "metadata": {
    "collapsed": true
   },
   "outputs": [],
   "source": [
    "del train['Unnamed: 0']"
   ]
  },
  {
   "cell_type": "code",
   "execution_count": 12,
   "metadata": {
    "collapsed": true
   },
   "outputs": [],
   "source": [
    "del test['Unnamed: 0']"
   ]
  },
  {
   "cell_type": "code",
   "execution_count": 10,
   "metadata": {
    "collapsed": false
   },
   "outputs": [
    {
     "data": {
      "text/plain": [
       "(10506, 15)"
      ]
     },
     "execution_count": 10,
     "metadata": {},
     "output_type": "execute_result"
    }
   ],
   "source": [
    "train.shape"
   ]
  },
  {
   "cell_type": "code",
   "execution_count": 17,
   "metadata": {
    "collapsed": false
   },
   "outputs": [
    {
     "data": {
      "text/html": [
       "<div>\n",
       "<table border=\"1\" class=\"dataframe\">\n",
       "  <thead>\n",
       "    <tr style=\"text-align: right;\">\n",
       "      <th></th>\n",
       "      <th>Latitude</th>\n",
       "      <th>Longitude</th>\n",
       "      <th>PavgW</th>\n",
       "      <th>TmaxW</th>\n",
       "      <th>Species_CULEX ERRATICUS</th>\n",
       "      <th>Species_CULEX PIPIENS</th>\n",
       "      <th>Species_CULEX PIPIENS/RESTUANS</th>\n",
       "      <th>Species_CULEX RESTUANS</th>\n",
       "      <th>Species_CULEX SALINARIUS</th>\n",
       "      <th>Species_CULEX TARSALIS</th>\n",
       "      <th>Species_CULEX TERRITANS</th>\n",
       "    </tr>\n",
       "  </thead>\n",
       "  <tbody>\n",
       "    <tr>\n",
       "      <th>0</th>\n",
       "      <td>41.95469</td>\n",
       "      <td>-87.800991</td>\n",
       "      <td>0.101429</td>\n",
       "      <td>82.428571</td>\n",
       "      <td>0.0</td>\n",
       "      <td>0.0</td>\n",
       "      <td>1.0</td>\n",
       "      <td>0.0</td>\n",
       "      <td>0.0</td>\n",
       "      <td>0.0</td>\n",
       "      <td>0.0</td>\n",
       "    </tr>\n",
       "    <tr>\n",
       "      <th>1</th>\n",
       "      <td>41.95469</td>\n",
       "      <td>-87.800991</td>\n",
       "      <td>0.101429</td>\n",
       "      <td>82.428571</td>\n",
       "      <td>0.0</td>\n",
       "      <td>0.0</td>\n",
       "      <td>0.0</td>\n",
       "      <td>1.0</td>\n",
       "      <td>0.0</td>\n",
       "      <td>0.0</td>\n",
       "      <td>0.0</td>\n",
       "    </tr>\n",
       "    <tr>\n",
       "      <th>2</th>\n",
       "      <td>41.95469</td>\n",
       "      <td>-87.800991</td>\n",
       "      <td>0.101429</td>\n",
       "      <td>82.428571</td>\n",
       "      <td>0.0</td>\n",
       "      <td>1.0</td>\n",
       "      <td>0.0</td>\n",
       "      <td>0.0</td>\n",
       "      <td>0.0</td>\n",
       "      <td>0.0</td>\n",
       "      <td>0.0</td>\n",
       "    </tr>\n",
       "    <tr>\n",
       "      <th>3</th>\n",
       "      <td>41.95469</td>\n",
       "      <td>-87.800991</td>\n",
       "      <td>0.101429</td>\n",
       "      <td>82.428571</td>\n",
       "      <td>0.0</td>\n",
       "      <td>0.0</td>\n",
       "      <td>0.0</td>\n",
       "      <td>0.0</td>\n",
       "      <td>1.0</td>\n",
       "      <td>0.0</td>\n",
       "      <td>0.0</td>\n",
       "    </tr>\n",
       "    <tr>\n",
       "      <th>4</th>\n",
       "      <td>41.95469</td>\n",
       "      <td>-87.800991</td>\n",
       "      <td>0.101429</td>\n",
       "      <td>82.428571</td>\n",
       "      <td>0.0</td>\n",
       "      <td>0.0</td>\n",
       "      <td>0.0</td>\n",
       "      <td>0.0</td>\n",
       "      <td>0.0</td>\n",
       "      <td>0.0</td>\n",
       "      <td>1.0</td>\n",
       "    </tr>\n",
       "  </tbody>\n",
       "</table>\n",
       "</div>"
      ],
      "text/plain": [
       "   Latitude  Longitude     PavgW      TmaxW  Species_CULEX ERRATICUS  \\\n",
       "0  41.95469 -87.800991  0.101429  82.428571                      0.0   \n",
       "1  41.95469 -87.800991  0.101429  82.428571                      0.0   \n",
       "2  41.95469 -87.800991  0.101429  82.428571                      0.0   \n",
       "3  41.95469 -87.800991  0.101429  82.428571                      0.0   \n",
       "4  41.95469 -87.800991  0.101429  82.428571                      0.0   \n",
       "\n",
       "   Species_CULEX PIPIENS  Species_CULEX PIPIENS/RESTUANS  \\\n",
       "0                    0.0                             1.0   \n",
       "1                    0.0                             0.0   \n",
       "2                    1.0                             0.0   \n",
       "3                    0.0                             0.0   \n",
       "4                    0.0                             0.0   \n",
       "\n",
       "   Species_CULEX RESTUANS  Species_CULEX SALINARIUS  Species_CULEX TARSALIS  \\\n",
       "0                     0.0                       0.0                     0.0   \n",
       "1                     1.0                       0.0                     0.0   \n",
       "2                     0.0                       0.0                     0.0   \n",
       "3                     0.0                       1.0                     0.0   \n",
       "4                     0.0                       0.0                     0.0   \n",
       "\n",
       "   Species_CULEX TERRITANS  \n",
       "0                      0.0  \n",
       "1                      0.0  \n",
       "2                      0.0  \n",
       "3                      0.0  \n",
       "4                      1.0  "
      ]
     },
     "execution_count": 17,
     "metadata": {},
     "output_type": "execute_result"
    }
   ],
   "source": [
    "test.head()"
   ]
  },
  {
   "cell_type": "code",
   "execution_count": 15,
   "metadata": {
    "collapsed": false
   },
   "outputs": [
    {
     "data": {
      "text/html": [
       "<div>\n",
       "<table border=\"1\" class=\"dataframe\">\n",
       "  <thead>\n",
       "    <tr style=\"text-align: right;\">\n",
       "      <th></th>\n",
       "      <th>Trap</th>\n",
       "      <th>Date</th>\n",
       "      <th>Latitude</th>\n",
       "      <th>Longitude</th>\n",
       "      <th>NumMosquitos</th>\n",
       "      <th>PavgW</th>\n",
       "      <th>TmaxW</th>\n",
       "      <th>WnvPresent</th>\n",
       "      <th>Species_CULEX ERRATICUS</th>\n",
       "      <th>Species_CULEX PIPIENS</th>\n",
       "      <th>Species_CULEX PIPIENS/RESTUANS</th>\n",
       "      <th>Species_CULEX RESTUANS</th>\n",
       "      <th>Species_CULEX SALINARIUS</th>\n",
       "      <th>Species_CULEX TARSALIS</th>\n",
       "      <th>Species_CULEX TERRITANS</th>\n",
       "    </tr>\n",
       "  </thead>\n",
       "  <tbody>\n",
       "    <tr>\n",
       "      <th>0</th>\n",
       "      <td>T002</td>\n",
       "      <td>2007-05-29</td>\n",
       "      <td>41.954690</td>\n",
       "      <td>-87.800991</td>\n",
       "      <td>1</td>\n",
       "      <td>0.035714</td>\n",
       "      <td>82.285714</td>\n",
       "      <td>0</td>\n",
       "      <td>0.0</td>\n",
       "      <td>0.0</td>\n",
       "      <td>1.0</td>\n",
       "      <td>0.0</td>\n",
       "      <td>0.0</td>\n",
       "      <td>0.0</td>\n",
       "      <td>0.0</td>\n",
       "    </tr>\n",
       "    <tr>\n",
       "      <th>1</th>\n",
       "      <td>T002</td>\n",
       "      <td>2007-05-29</td>\n",
       "      <td>41.954690</td>\n",
       "      <td>-87.800991</td>\n",
       "      <td>1</td>\n",
       "      <td>0.035714</td>\n",
       "      <td>82.285714</td>\n",
       "      <td>0</td>\n",
       "      <td>0.0</td>\n",
       "      <td>0.0</td>\n",
       "      <td>0.0</td>\n",
       "      <td>1.0</td>\n",
       "      <td>0.0</td>\n",
       "      <td>0.0</td>\n",
       "      <td>0.0</td>\n",
       "    </tr>\n",
       "    <tr>\n",
       "      <th>2</th>\n",
       "      <td>T007</td>\n",
       "      <td>2007-05-29</td>\n",
       "      <td>41.994991</td>\n",
       "      <td>-87.769279</td>\n",
       "      <td>1</td>\n",
       "      <td>0.035714</td>\n",
       "      <td>82.285714</td>\n",
       "      <td>0</td>\n",
       "      <td>0.0</td>\n",
       "      <td>0.0</td>\n",
       "      <td>0.0</td>\n",
       "      <td>1.0</td>\n",
       "      <td>0.0</td>\n",
       "      <td>0.0</td>\n",
       "      <td>0.0</td>\n",
       "    </tr>\n",
       "    <tr>\n",
       "      <th>3</th>\n",
       "      <td>T015</td>\n",
       "      <td>2007-05-29</td>\n",
       "      <td>41.974089</td>\n",
       "      <td>-87.824812</td>\n",
       "      <td>1</td>\n",
       "      <td>0.035714</td>\n",
       "      <td>82.285714</td>\n",
       "      <td>0</td>\n",
       "      <td>0.0</td>\n",
       "      <td>0.0</td>\n",
       "      <td>1.0</td>\n",
       "      <td>0.0</td>\n",
       "      <td>0.0</td>\n",
       "      <td>0.0</td>\n",
       "      <td>0.0</td>\n",
       "    </tr>\n",
       "    <tr>\n",
       "      <th>4</th>\n",
       "      <td>T015</td>\n",
       "      <td>2007-05-29</td>\n",
       "      <td>41.974089</td>\n",
       "      <td>-87.824812</td>\n",
       "      <td>4</td>\n",
       "      <td>0.035714</td>\n",
       "      <td>82.285714</td>\n",
       "      <td>0</td>\n",
       "      <td>0.0</td>\n",
       "      <td>0.0</td>\n",
       "      <td>0.0</td>\n",
       "      <td>1.0</td>\n",
       "      <td>0.0</td>\n",
       "      <td>0.0</td>\n",
       "      <td>0.0</td>\n",
       "    </tr>\n",
       "  </tbody>\n",
       "</table>\n",
       "</div>"
      ],
      "text/plain": [
       "   Trap        Date   Latitude  Longitude  NumMosquitos     PavgW      TmaxW  \\\n",
       "0  T002  2007-05-29  41.954690 -87.800991             1  0.035714  82.285714   \n",
       "1  T002  2007-05-29  41.954690 -87.800991             1  0.035714  82.285714   \n",
       "2  T007  2007-05-29  41.994991 -87.769279             1  0.035714  82.285714   \n",
       "3  T015  2007-05-29  41.974089 -87.824812             1  0.035714  82.285714   \n",
       "4  T015  2007-05-29  41.974089 -87.824812             4  0.035714  82.285714   \n",
       "\n",
       "   WnvPresent  Species_CULEX ERRATICUS  Species_CULEX PIPIENS  \\\n",
       "0           0                      0.0                    0.0   \n",
       "1           0                      0.0                    0.0   \n",
       "2           0                      0.0                    0.0   \n",
       "3           0                      0.0                    0.0   \n",
       "4           0                      0.0                    0.0   \n",
       "\n",
       "   Species_CULEX PIPIENS/RESTUANS  Species_CULEX RESTUANS  \\\n",
       "0                             1.0                     0.0   \n",
       "1                             0.0                     1.0   \n",
       "2                             0.0                     1.0   \n",
       "3                             1.0                     0.0   \n",
       "4                             0.0                     1.0   \n",
       "\n",
       "   Species_CULEX SALINARIUS  Species_CULEX TARSALIS  Species_CULEX TERRITANS  \n",
       "0                       0.0                     0.0                      0.0  \n",
       "1                       0.0                     0.0                      0.0  \n",
       "2                       0.0                     0.0                      0.0  \n",
       "3                       0.0                     0.0                      0.0  \n",
       "4                       0.0                     0.0                      0.0  "
      ]
     },
     "execution_count": 15,
     "metadata": {},
     "output_type": "execute_result"
    }
   ],
   "source": [
    "train.head()"
   ]
  },
  {
   "cell_type": "code",
   "execution_count": 156,
   "metadata": {
    "collapsed": false
   },
   "outputs": [
    {
     "data": {
      "text/plain": [
       "'2013-09-26'"
      ]
     },
     "execution_count": 156,
     "metadata": {},
     "output_type": "execute_result"
    }
   ],
   "source": [
    "max(train['Date'])"
   ]
  },
  {
   "cell_type": "code",
   "execution_count": 18,
   "metadata": {
    "collapsed": false
   },
   "outputs": [],
   "source": [
    "train_select = train[[u'Latitude', u'Longitude', u'PavgW',\n",
    "       u'TmaxW', u'Species_CULEX ERRATICUS',\n",
    "       u'Species_CULEX PIPIENS', u'Species_CULEX PIPIENS/RESTUANS',\n",
    "       u'Species_CULEX RESTUANS', u'Species_CULEX SALINARIUS',\n",
    "       u'Species_CULEX TARSALIS', u'Species_CULEX TERRITANS']]"
   ]
  },
  {
   "cell_type": "markdown",
   "metadata": {},
   "source": [
    "# Get Shoreline Data"
   ]
  },
  {
   "cell_type": "code",
   "execution_count": 77,
   "metadata": {
    "collapsed": false
   },
   "outputs": [
    {
     "data": {
      "text/html": [
       "<div>\n",
       "<table border=\"1\" class=\"dataframe\">\n",
       "  <thead>\n",
       "    <tr style=\"text-align: right;\">\n",
       "      <th></th>\n",
       "      <th>Latitude</th>\n",
       "      <th>Longitude</th>\n",
       "    </tr>\n",
       "  </thead>\n",
       "  <tbody>\n",
       "    <tr>\n",
       "      <th>0</th>\n",
       "      <td>42.063793</td>\n",
       "      <td>-87.673804</td>\n",
       "    </tr>\n",
       "    <tr>\n",
       "      <th>1</th>\n",
       "      <td>42.015808</td>\n",
       "      <td>-87.661582</td>\n",
       "    </tr>\n",
       "    <tr>\n",
       "      <th>2</th>\n",
       "      <td>42.024367</td>\n",
       "      <td>-87.665163</td>\n",
       "    </tr>\n",
       "    <tr>\n",
       "      <th>3</th>\n",
       "      <td>42.000831</td>\n",
       "      <td>-87.655729</td>\n",
       "    </tr>\n",
       "    <tr>\n",
       "      <th>4</th>\n",
       "      <td>42.000831</td>\n",
       "      <td>-87.655729</td>\n",
       "    </tr>\n",
       "    <tr>\n",
       "      <th>5</th>\n",
       "      <td>42.000831</td>\n",
       "      <td>-87.655729</td>\n",
       "    </tr>\n",
       "    <tr>\n",
       "      <th>6</th>\n",
       "      <td>41.885042</td>\n",
       "      <td>-87.612685</td>\n",
       "    </tr>\n",
       "    <tr>\n",
       "      <th>7</th>\n",
       "      <td>41.833249</td>\n",
       "      <td>-87.604038</td>\n",
       "    </tr>\n",
       "    <tr>\n",
       "      <th>8</th>\n",
       "      <td>41.799427</td>\n",
       "      <td>-87.579724</td>\n",
       "    </tr>\n",
       "    <tr>\n",
       "      <th>9</th>\n",
       "      <td>41.752367</td>\n",
       "      <td>-87.542049</td>\n",
       "    </tr>\n",
       "  </tbody>\n",
       "</table>\n",
       "</div>"
      ],
      "text/plain": [
       "    Latitude  Longitude\n",
       "0  42.063793 -87.673804\n",
       "1  42.015808 -87.661582\n",
       "2  42.024367 -87.665163\n",
       "3  42.000831 -87.655729\n",
       "4  42.000831 -87.655729\n",
       "5  42.000831 -87.655729\n",
       "6  41.885042 -87.612685\n",
       "7  41.833249 -87.604038\n",
       "8  41.799427 -87.579724\n",
       "9  41.752367 -87.542049"
      ]
     },
     "execution_count": 77,
     "metadata": {},
     "output_type": "execute_result"
    }
   ],
   "source": [
    "lat_list = [42.063793,42.015808,42.024367,42.000831,42.000831,42.000831,41.885042,41.833249,41.799427,41.752367]\n",
    "lon_list = [-87.673804,-87.661582,-87.665163,-87.655729,-87.655729,-87.655729,-87.612685,-87.604038,-87.579724,-87.542049]\n",
    " \n",
    "coastline_lat_lon = pd.DataFrame(columns=[\"Latitude\",\"Longitude\"])\n",
    "coastline_lat_lon[\"Latitude\"]=lat_list\n",
    "coastline_lat_lon[\"Longitude\"]=lon_list\n",
    "coastline_lat_lon"
   ]
  },
  {
   "cell_type": "code",
   "execution_count": 78,
   "metadata": {
    "collapsed": true
   },
   "outputs": [],
   "source": [
    "def find_closest_shoreline_from_trap(trap_lat,trap_lon,coastline_lat_lon):\n",
    "    distance_list = []\n",
    "    for i  in coastline_lat_lon.iterrows():\n",
    "        coastline_longitude = i[1][1]\n",
    "        coastline_latitude = i[1][0]\n",
    "        coastline_coord = (coastline_latitude,coastline_longitude)\n",
    "        trap_coord = (trap_lat,trap_lon)\n",
    "        distance_list.append(great_circle(trap_coord,coastline_coord).meters)\n",
    "    return(min(distance_list))"
   ]
  },
  {
   "cell_type": "code",
   "execution_count": 81,
   "metadata": {
    "collapsed": false
   },
   "outputs": [
    {
     "name": "stderr",
     "output_type": "stream",
     "text": [
      "/Users/teresaborcuch/anaconda2/lib/python2.7/site-packages/ipykernel/__main__.py:7: SettingWithCopyWarning: \n",
      "A value is trying to be set on a copy of a slice from a DataFrame.\n",
      "Try using .loc[row_indexer,col_indexer] = value instead\n",
      "\n",
      "See the caveats in the documentation: http://pandas.pydata.org/pandas-docs/stable/indexing.html#indexing-view-versus-copy\n"
     ]
    }
   ],
   "source": [
    "# get shoreline data for train\n",
    "trap_shoreline_distance_list = []\n",
    "for i, row in train_select.iterrows():\n",
    "    dist = find_closest_shoreline_from_trap(row[0], row[1], coastline_lat_lon)\n",
    "    trap_shoreline_distance_list.append(dist)\n",
    "\n",
    "train_select['shoreline_dist'] = trap_shoreline_distance_list"
   ]
  },
  {
   "cell_type": "code",
   "execution_count": 140,
   "metadata": {
    "collapsed": false
   },
   "outputs": [
    {
     "data": {
      "text/html": [
       "<div>\n",
       "<table border=\"1\" class=\"dataframe\">\n",
       "  <thead>\n",
       "    <tr style=\"text-align: right;\">\n",
       "      <th></th>\n",
       "      <th>Latitude</th>\n",
       "      <th>Longitude</th>\n",
       "      <th>PavgW</th>\n",
       "      <th>TmaxW</th>\n",
       "      <th>Species_CULEX ERRATICUS</th>\n",
       "      <th>Species_CULEX PIPIENS</th>\n",
       "      <th>Species_CULEX PIPIENS/RESTUANS</th>\n",
       "      <th>Species_CULEX RESTUANS</th>\n",
       "      <th>Species_CULEX SALINARIUS</th>\n",
       "      <th>Species_CULEX TARSALIS</th>\n",
       "      <th>Species_CULEX TERRITANS</th>\n",
       "      <th>shoreline_dist</th>\n",
       "    </tr>\n",
       "  </thead>\n",
       "  <tbody>\n",
       "    <tr>\n",
       "      <th>0</th>\n",
       "      <td>41.95469</td>\n",
       "      <td>-87.800991</td>\n",
       "      <td>0.101429</td>\n",
       "      <td>82.428571</td>\n",
       "      <td>0.0</td>\n",
       "      <td>0.0</td>\n",
       "      <td>1.0</td>\n",
       "      <td>0.0</td>\n",
       "      <td>0.0</td>\n",
       "      <td>0.0</td>\n",
       "      <td>0.0</td>\n",
       "      <td>13061.621983</td>\n",
       "    </tr>\n",
       "  </tbody>\n",
       "</table>\n",
       "</div>"
      ],
      "text/plain": [
       "   Latitude  Longitude     PavgW      TmaxW  Species_CULEX ERRATICUS  \\\n",
       "0  41.95469 -87.800991  0.101429  82.428571                      0.0   \n",
       "\n",
       "   Species_CULEX PIPIENS  Species_CULEX PIPIENS/RESTUANS  \\\n",
       "0                    0.0                             1.0   \n",
       "\n",
       "   Species_CULEX RESTUANS  Species_CULEX SALINARIUS  Species_CULEX TARSALIS  \\\n",
       "0                     0.0                       0.0                     0.0   \n",
       "\n",
       "   Species_CULEX TERRITANS  shoreline_dist  \n",
       "0                      0.0    13061.621983  "
      ]
     },
     "execution_count": 140,
     "metadata": {},
     "output_type": "execute_result"
    }
   ],
   "source": [
    "test.head(1)"
   ]
  },
  {
   "cell_type": "code",
   "execution_count": 139,
   "metadata": {
    "collapsed": true
   },
   "outputs": [],
   "source": [
    "# get shoreline data for test\n",
    "trap_shoreline_distance_list = []\n",
    "for i, row in test.iterrows():\n",
    "    dist = find_closest_shoreline_from_trap(row[0], row[1], coastline_lat_lon)\n",
    "    trap_shoreline_distance_list.append(dist)\n",
    "\n",
    "test['shoreline_dist'] = trap_shoreline_distance_list"
   ]
  },
  {
   "cell_type": "markdown",
   "metadata": {},
   "source": [
    "# EDA"
   ]
  },
  {
   "cell_type": "code",
   "execution_count": 160,
   "metadata": {
    "collapsed": false
   },
   "outputs": [
    {
     "data": {
      "image/png": "[encoded data removed]",
      "text/plain": [
       "<matplotlib.figure.Figure at 0x11a18dd90>"
      ]
     },
     "metadata": {},
     "output_type": "display_data"
    }
   ],
   "source": [
    "plt.scatter(train['TmaxW'], train['PavgW'], c= train['WnvPresent'])\n",
    "plt.xlabel('Weekly Maximum Temperature')\n",
    "plt.ylabel('Weekly Average Precipitation')\n",
    "plt.show()"
   ]
  },
  {
   "cell_type": "markdown",
   "metadata": {},
   "source": [
    "# Train and Test Sets"
   ]
  },
  {
   "cell_type": "code",
   "execution_count": 85,
   "metadata": {
    "collapsed": true
   },
   "outputs": [],
   "source": [
    "y = train.WnvPresent"
   ]
  },
  {
   "cell_type": "code",
   "execution_count": 151,
   "metadata": {
    "collapsed": false
   },
   "outputs": [
    {
     "data": {
      "text/plain": [
       "0    9955\n",
       "1     551\n",
       "Name: WnvPresent, dtype: int64"
      ]
     },
     "execution_count": 151,
     "metadata": {},
     "output_type": "execute_result"
    }
   ],
   "source": [
    "y.value_counts()"
   ]
  },
  {
   "cell_type": "code",
   "execution_count": 152,
   "metadata": {
    "collapsed": false
   },
   "outputs": [
    {
     "data": {
      "text/plain": [
       "0.05244622120692937"
      ]
     },
     "execution_count": 152,
     "metadata": {},
     "output_type": "execute_result"
    }
   ],
   "source": [
    "551.0/(551+9955)"
   ]
  },
  {
   "cell_type": "code",
   "execution_count": 86,
   "metadata": {
    "collapsed": false
   },
   "outputs": [],
   "source": [
    "# make train and test sets\n",
    "X_train, X_test, y_train, y_test = train_test_split(train_select, y, test_size = 0.3)"
   ]
  },
  {
   "cell_type": "markdown",
   "metadata": {},
   "source": [
    "# Fit All the Models"
   ]
  },
  {
   "cell_type": "code",
   "execution_count": 87,
   "metadata": {
    "collapsed": true
   },
   "outputs": [],
   "source": [
    "def fit_and_score(model, name):\n",
    "    model.fit(X_train, y_train)\n",
    "    accuracy = cross_val_score(dt, X_test, y_test, cv = 10, scoring = 'accuracy')\n",
    "    model_scores[name] = np.mean(accuracy)"
   ]
  },
  {
   "cell_type": "code",
   "execution_count": 88,
   "metadata": {
    "collapsed": true
   },
   "outputs": [],
   "source": [
    "# create dictionary to hold scores\n",
    "model_scores = {}"
   ]
  },
  {
   "cell_type": "code",
   "execution_count": 89,
   "metadata": {
    "collapsed": false
   },
   "outputs": [],
   "source": [
    "# decision tree\n",
    "dt = DecisionTreeClassifier()\n",
    "fit_and_score(dt, 'Decision Tree')"
   ]
  },
  {
   "cell_type": "code",
   "execution_count": 90,
   "metadata": {
    "collapsed": false
   },
   "outputs": [],
   "source": [
    "# bagging tree\n",
    "bt = BaggingClassifier()\n",
    "fit_and_score(bt, 'Bagging Classifier')"
   ]
  },
  {
   "cell_type": "code",
   "execution_count": 91,
   "metadata": {
    "collapsed": false
   },
   "outputs": [],
   "source": [
    "# gradient boosting classifier\n",
    "gbc = GradientBoostingClassifier()\n",
    "fit_and_score(gbc, 'Gradient Boosting')"
   ]
  },
  {
   "cell_type": "code",
   "execution_count": 92,
   "metadata": {
    "collapsed": false,
    "scrolled": false
   },
   "outputs": [],
   "source": [
    "# gridsearch for gradient boosting classifier\n",
    "params = {'n_estimators': [5,10,25,100,200,500],\n",
    "          'loss': ['deviance','exponential'],\n",
    "          'max_depth': [None, 3, 5, 10],\n",
    "          'max_features': [0.25,0.5,0.75,1.0]}\n",
    "\n",
    "gsgbc = GridSearchCV(GradientBoostingClassifier(),\n",
    "                    params, n_jobs=-1,\n",
    "                    cv=KFold(len(y_train), n_folds=3, shuffle=True),\n",
    "                   scoring = 'accuracy')\n",
    "fit_and_score(gsgbc, 'GS Gradient Boost')"
   ]
  },
  {
   "cell_type": "code",
   "execution_count": 93,
   "metadata": {
    "collapsed": false
   },
   "outputs": [],
   "source": [
    "# adaboost \n",
    "adb = AdaBoostClassifier()\n",
    "fit_and_score(adb, 'AdaBoost')"
   ]
  },
  {
   "cell_type": "code",
   "execution_count": 94,
   "metadata": {
    "collapsed": true
   },
   "outputs": [],
   "source": [
    "# gridsearch adaboost\n",
    "params = {'n_estimators': [5,10,25,100,200,500],\n",
    "          'learning_rate': [0.25,0.5,0.75,1.0]}\n",
    "\n",
    "gsab = GridSearchCV(AdaBoostClassifier(),\n",
    "                    params, n_jobs=-1,\n",
    "                    cv=KFold(len(y_train), n_folds=3, shuffle=True),\n",
    "                   scoring = 'accuracy')\n",
    "fit_and_score(gsab, \"GS Adaboost\")"
   ]
  },
  {
   "cell_type": "code",
   "execution_count": 95,
   "metadata": {
    "collapsed": true
   },
   "outputs": [],
   "source": [
    "# random forest\n",
    "rf = RandomForestClassifier()\n",
    "fit_and_score(rf, 'Random Forest')"
   ]
  },
  {
   "cell_type": "code",
   "execution_count": 96,
   "metadata": {
    "collapsed": true
   },
   "outputs": [],
   "source": [
    "# gridsearch random forests\n",
    "params = {'n_estimators': [5,10,25,100,200,500],\n",
    "          'min_samples_split': [2, 5],\n",
    "          'min_samples_leaf': [1, 2, 3],\n",
    "          'bootstrap': [True, False]}\n",
    "\n",
    "gsrf = GridSearchCV(RandomForestClassifier(),\n",
    "                    params, n_jobs=-1,\n",
    "                    cv=KFold(len(y_train), n_folds=3, shuffle=True),\n",
    "                   scoring = 'accuracy')\n",
    "fit_and_score(gsrf, \"GS Random Forest\")"
   ]
  },
  {
   "cell_type": "code",
   "execution_count": 97,
   "metadata": {
    "collapsed": true
   },
   "outputs": [],
   "source": [
    "# Extra Trees\n",
    "et = ExtraTreesClassifier()\n",
    "fit_and_score(et, \"Extra Trees\")"
   ]
  },
  {
   "cell_type": "code",
   "execution_count": 98,
   "metadata": {
    "collapsed": false
   },
   "outputs": [
    {
     "data": {
      "text/plain": [
       "{'AdaBoost': 0.91054500383291814,\n",
       " 'Bagging Classifier': 0.90958656315868291,\n",
       " 'Decision Tree': 0.9114963929617641,\n",
       " 'Extra Trees': 0.91054399281279874,\n",
       " 'GS Adaboost': 0.91118094188681964,\n",
       " 'GS Gradient Boost': 0.91150242708817242,\n",
       " 'GS Random Forest': 0.90959563674431043,\n",
       " 'Gradient Boosting': 0.9121272823139307,\n",
       " 'Random Forest': 0.9095865759564058}"
      ]
     },
     "execution_count": 98,
     "metadata": {},
     "output_type": "execute_result"
    }
   ],
   "source": [
    "model_scores"
   ]
  },
  {
   "cell_type": "code",
   "execution_count": 112,
   "metadata": {
    "collapsed": false
   },
   "outputs": [
    {
     "data": {
      "image/png": "[encoded data removed]",
      "text/plain": [
       "<matplotlib.figure.Figure at 0x11cd890d0>"
      ]
     },
     "metadata": {},
     "output_type": "display_data"
    }
   ],
   "source": [
    "h = plt.bar(range(len(model_scores)), model_scores.values(), align='center')\n",
    "xticks_pos = [0.55*patch.get_width() + patch.get_xy()[0] for patch in h]\n",
    "plt.xticks(range(len(model_scores)), model_scores.keys(), rotation = 40, ha = 'right')\n",
    "plt.ylabel('Model Accuracy')\n",
    "plt.show()"
   ]
  },
  {
   "cell_type": "markdown",
   "metadata": {},
   "source": [
    "These models all have around the same accuracy, and based on previous two submissions (LogisticRegressionCV and a Random Forest both got 0.500 on Kaggle...must try feature selection)."
   ]
  },
  {
   "cell_type": "markdown",
   "metadata": {},
   "source": [
    "# Feature Selection\n",
    "\n",
    "I'll try it for the Gradient Boosting Classifier."
   ]
  },
  {
   "cell_type": "code",
   "execution_count": 117,
   "metadata": {
    "collapsed": false
   },
   "outputs": [],
   "source": [
    "# RFECV feature selection\n",
    "rfecv = RFECV(estimator = GradientBoostingClassifier(), cv = 5, scoring = 'accuracy')\n",
    "rfecv.fit(train_select,y)\n",
    "rfecv_cols = train_select.columns[rfecv.support_]"
   ]
  },
  {
   "cell_type": "code",
   "execution_count": 118,
   "metadata": {
    "collapsed": false
   },
   "outputs": [
    {
     "data": {
      "text/plain": [
       "Index([u'Latitude', u'Longitude', u'PavgW', u'TmaxW', u'shoreline_dist'], dtype='object')"
      ]
     },
     "execution_count": 118,
     "metadata": {},
     "output_type": "execute_result"
    }
   ],
   "source": [
    "rfecv_cols"
   ]
  },
  {
   "cell_type": "code",
   "execution_count": 120,
   "metadata": {
    "collapsed": false
   },
   "outputs": [],
   "source": [
    "X = train_select[[u'Latitude', u'Longitude', u'PavgW', u'TmaxW', u'shoreline_dist']]"
   ]
  },
  {
   "cell_type": "code",
   "execution_count": 123,
   "metadata": {
    "collapsed": true
   },
   "outputs": [],
   "source": [
    "# make train and test sets\n",
    "X_train, X_test, y_train, y_test = train_test_split(X, y, test_size = 0.3)"
   ]
  },
  {
   "cell_type": "code",
   "execution_count": 121,
   "metadata": {
    "collapsed": true
   },
   "outputs": [],
   "source": [
    "rfecv_scores = {}"
   ]
  },
  {
   "cell_type": "code",
   "execution_count": 122,
   "metadata": {
    "collapsed": true
   },
   "outputs": [],
   "source": [
    "def fit_and_score(model, name):\n",
    "    model.fit(X_train, y_train)\n",
    "    accuracy = cross_val_score(dt, X_test, y_test, cv = 10, scoring = 'accuracy')\n",
    "    rfecv_scores[name] = np.mean(accuracy)"
   ]
  },
  {
   "cell_type": "code",
   "execution_count": 124,
   "metadata": {
    "collapsed": true
   },
   "outputs": [],
   "source": [
    "# decision tree\n",
    "dt = DecisionTreeClassifier()\n",
    "fit_and_score(dt, 'Decision Tree')"
   ]
  },
  {
   "cell_type": "code",
   "execution_count": 125,
   "metadata": {
    "collapsed": true
   },
   "outputs": [],
   "source": [
    "# bagging tree\n",
    "bt = BaggingClassifier()\n",
    "fit_and_score(bt, 'Bagging Classifier')"
   ]
  },
  {
   "cell_type": "code",
   "execution_count": 126,
   "metadata": {
    "collapsed": true
   },
   "outputs": [],
   "source": [
    "# gradient boosting classifier\n",
    "gbc = GradientBoostingClassifier()\n",
    "fit_and_score(gbc, 'Gradient Boosting')"
   ]
  },
  {
   "cell_type": "code",
   "execution_count": 127,
   "metadata": {
    "collapsed": true
   },
   "outputs": [],
   "source": [
    "# gridsearch for gradient boosting classifier\n",
    "params = {'n_estimators': [5,10,25,100,200,500],\n",
    "          'loss': ['deviance','exponential'],\n",
    "          'max_depth': [None, 3, 5, 10],\n",
    "          'max_features': [0.25,0.5,0.75,1.0]}\n",
    "\n",
    "gsgbc = GridSearchCV(GradientBoostingClassifier(),\n",
    "                    params, n_jobs=-1,\n",
    "                    cv=KFold(len(y_train), n_folds=3, shuffle=True),\n",
    "                   scoring = 'accuracy')\n",
    "fit_and_score(gsgbc, 'GS Gradient Boost')"
   ]
  },
  {
   "cell_type": "code",
   "execution_count": 128,
   "metadata": {
    "collapsed": true
   },
   "outputs": [],
   "source": [
    "# adaboost \n",
    "adb = AdaBoostClassifier()\n",
    "fit_and_score(adb, 'AdaBoost')"
   ]
  },
  {
   "cell_type": "code",
   "execution_count": 129,
   "metadata": {
    "collapsed": true
   },
   "outputs": [],
   "source": [
    "# gridsearch adaboost\n",
    "params = {'n_estimators': [5,10,25,100,200,500],\n",
    "          'learning_rate': [0.25,0.5,0.75,1.0]}\n",
    "\n",
    "gsab = GridSearchCV(AdaBoostClassifier(),\n",
    "                    params, n_jobs=-1,\n",
    "                    cv=KFold(len(y_train), n_folds=3, shuffle=True),\n",
    "                   scoring = 'accuracy')\n",
    "fit_and_score(gsab, \"GS Adaboost\")"
   ]
  },
  {
   "cell_type": "code",
   "execution_count": 130,
   "metadata": {
    "collapsed": true
   },
   "outputs": [],
   "source": [
    "# random forest\n",
    "rf = RandomForestClassifier()\n",
    "fit_and_score(rf, 'Random Forest')"
   ]
  },
  {
   "cell_type": "code",
   "execution_count": 131,
   "metadata": {
    "collapsed": true
   },
   "outputs": [],
   "source": [
    "# gridsearch random forests\n",
    "params = {'n_estimators': [5,10,25,100,200,500],\n",
    "          'min_samples_split': [2, 5],\n",
    "          'min_samples_leaf': [1, 2, 3],\n",
    "          'bootstrap': [True, False]}\n",
    "\n",
    "gsrf = GridSearchCV(RandomForestClassifier(),\n",
    "                    params, n_jobs=-1,\n",
    "                    cv=KFold(len(y_train), n_folds=3, shuffle=True),\n",
    "                   scoring = 'accuracy')\n",
    "fit_and_score(gsrf, \"GS Random Forest\")"
   ]
  },
  {
   "cell_type": "code",
   "execution_count": 132,
   "metadata": {
    "collapsed": true
   },
   "outputs": [],
   "source": [
    "# Extra Trees\n",
    "et = ExtraTreesClassifier()\n",
    "fit_and_score(et, \"Extra Trees\")"
   ]
  },
  {
   "cell_type": "code",
   "execution_count": 133,
   "metadata": {
    "collapsed": false
   },
   "outputs": [
    {
     "data": {
      "text/plain": [
       "{'AdaBoost': 0.91973980309423342,\n",
       " 'Bagging Classifier': 0.91942033353425767,\n",
       " 'Decision Tree': 0.92068816556158328,\n",
       " 'Extra Trees': 0.92005625879043595,\n",
       " 'GS Adaboost': 0.9210066305003014,\n",
       " 'GS Gradient Boost': 0.92163954189270636,\n",
       " 'GS Random Forest': 0.91846795258187675,\n",
       " 'Gradient Boosting': 0.91878641752059464,\n",
       " 'Random Forest': 0.91973477998794451}"
      ]
     },
     "execution_count": 133,
     "metadata": {},
     "output_type": "execute_result"
    }
   ],
   "source": [
    "rfecv_scores"
   ]
  },
  {
   "cell_type": "code",
   "execution_count": 134,
   "metadata": {
    "collapsed": false
   },
   "outputs": [
    {
     "data": {
      "image/png": "[encoded data removed]",
      "text/plain": [
       "<matplotlib.figure.Figure at 0x11cbcd8d0>"
      ]
     },
     "metadata": {},
     "output_type": "display_data"
    }
   ],
   "source": [
    "h = plt.bar(range(len(rfecv_scores)), rfecv_scores.values(), align='center')\n",
    "xticks_pos = [0.55*patch.get_width() + patch.get_xy()[0] for patch in h]\n",
    "plt.xticks(range(len(rfecv_scores)), rfecv_scores.keys(), rotation = 40, ha = 'right')\n",
    "plt.ylabel('Model Accuracy')\n",
    "plt.show()"
   ]
  },
  {
   "cell_type": "markdown",
   "metadata": {},
   "source": [
    "GS Gradient Boost is the best model, so submit to Kaggle."
   ]
  },
  {
   "cell_type": "code",
   "execution_count": 136,
   "metadata": {
    "collapsed": false
   },
   "outputs": [
    {
     "data": {
      "text/plain": [
       "GridSearchCV(cv=sklearn.cross_validation.KFold(n=7354, n_folds=3, shuffle=True, random_state=None),\n",
       "       error_score='raise',\n",
       "       estimator=GradientBoostingClassifier(init=None, learning_rate=0.1, loss='deviance',\n",
       "              max_depth=3, max_features=None, max_leaf_nodes=None,\n",
       "              min_samples_leaf=1, min_samples_split=2,\n",
       "              min_weight_fraction_leaf=0.0, n_estimators=100,\n",
       "              presort='auto', random_state=None, subsample=1.0, verbose=0,\n",
       "              warm_start=False),\n",
       "       fit_params={}, iid=True, n_jobs=-1,\n",
       "       param_grid={'n_estimators': [5, 10, 25, 100, 200, 500], 'loss': ['deviance', 'exponential'], 'max_depth': [None, 3, 5, 10], 'max_features': [0.25, 0.5, 0.75, 1.0]},\n",
       "       pre_dispatch='2*n_jobs', refit=True, scoring='accuracy', verbose=0)"
      ]
     },
     "execution_count": 136,
     "metadata": {},
     "output_type": "execute_result"
    }
   ],
   "source": [
    "# train the gsgcb\n",
    "gsgbc.fit(X,y)"
   ]
  },
  {
   "cell_type": "code",
   "execution_count": 141,
   "metadata": {
    "collapsed": false
   },
   "outputs": [],
   "source": [
    "# select columns from test data\n",
    "rfecv_test = test[[u'Latitude', u'Longitude', u'PavgW', u'TmaxW', u'shoreline_dist']]"
   ]
  },
  {
   "cell_type": "code",
   "execution_count": 153,
   "metadata": {
    "collapsed": false
   },
   "outputs": [
    {
     "data": {
      "text/plain": [
       "GradientBoostingClassifier(init=None, learning_rate=0.1, loss='deviance',\n",
       "              max_depth=5, max_features=1.0, max_leaf_nodes=None,\n",
       "              min_samples_leaf=1, min_samples_split=2,\n",
       "              min_weight_fraction_leaf=0.0, n_estimators=10,\n",
       "              presort='auto', random_state=None, subsample=1.0, verbose=0,\n",
       "              warm_start=False)"
      ]
     },
     "execution_count": 153,
     "metadata": {},
     "output_type": "execute_result"
    }
   ],
   "source": [
    "gsgbc.best_estimator_"
   ]
  },
  {
   "cell_type": "code",
   "execution_count": 142,
   "metadata": {
    "collapsed": true
   },
   "outputs": [],
   "source": [
    "best_gsgbc = gsgbc.best_estimator_"
   ]
  },
  {
   "cell_type": "code",
   "execution_count": 143,
   "metadata": {
    "collapsed": true
   },
   "outputs": [],
   "source": [
    "predictions = best_gsgbc.predict(rfecv_test)"
   ]
  },
  {
   "cell_type": "code",
   "execution_count": 146,
   "metadata": {
    "collapsed": false
   },
   "outputs": [
    {
     "data": {
      "text/plain": [
       "116293"
      ]
     },
     "execution_count": 146,
     "metadata": {},
     "output_type": "execute_result"
    }
   ],
   "source": [
    "len(predictions)"
   ]
  },
  {
   "cell_type": "code",
   "execution_count": 147,
   "metadata": {
    "collapsed": false
   },
   "outputs": [],
   "source": [
    "submission = pd.DataFrame(columns = ['Id','WnvPresent'])\n",
    "submission['Id'] = range(1, 116294)\n",
    "submission['WnvPresent'] = predictions"
   ]
  },
  {
   "cell_type": "code",
   "execution_count": 150,
   "metadata": {
    "collapsed": false
   },
   "outputs": [
    {
     "data": {
      "text/plain": [
       "0    116293\n",
       "Name: WnvPresent, dtype: int64"
      ]
     },
     "execution_count": 150,
     "metadata": {},
     "output_type": "execute_result"
    }
   ],
   "source": [
    "submission['WnvPresent'].value_counts()"
   ]
  },
  {
   "cell_type": "code",
   "execution_count": 148,
   "metadata": {
    "collapsed": false
   },
   "outputs": [],
   "source": [
    "submission.to_csv('/Users/teresaborcuch/Chicago-Mosquito-Study/gsgbc_submission.csv')"
   ]
  }
 ],
 "metadata": {
  "kernelspec": {
   "display_name": "Python [default]",
   "language": "python",
   "name": "python2"
  },
  "language_info": {
   "codemirror_mode": {
    "name": "ipython",
    "version": 2
   },
   "file_extension": ".py",
   "mimetype": "text/x-python",
   "name": "python",
   "nbconvert_exporter": "python",
   "pygments_lexer": "ipython2",
   "version": "2.7.12"
  }
 },
 "nbformat": 4,
 "nbformat_minor": 1
}
